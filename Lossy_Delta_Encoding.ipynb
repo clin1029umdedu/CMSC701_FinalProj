{
 "cells": [
  {
   "cell_type": "code",
   "execution_count": 18,
   "id": "bb89ee66-b320-440a-9fca-dcfd76dda290",
   "metadata": {},
   "outputs": [],
   "source": [
    "import gzip\n",
    "import scipy.io\n",
    "import scipy.sparse\n",
    "import numpy as np\n",
    "from pybloom_live import BloomFilter\n",
    "import random\n",
    "import pickle  # To serialize Bloom filters\n",
    "import time"
   ]
  },
  {
   "cell_type": "code",
   "execution_count": 19,
   "id": "011f35db-f648-40aa-ae8f-478c8d6e678c",
   "metadata": {},
   "outputs": [],
   "source": [
    "def load_matrix(file_prefix):\n",
    "    with gzip.open(file_prefix + \".mtx.gz\", \"rt\") as f:\n",
    "        matrix = scipy.io.mmread(f).tocsc()  # fast column access\n",
    "    return matrix"
   ]
  },
  {
   "cell_type": "code",
   "execution_count": 20,
   "id": "1467bc63-97c6-4334-8af0-15919db4ecf5",
   "metadata": {},
   "outputs": [],
   "source": [
    "def binarize(matrix):\n",
    "    \"\"\"Convert counts to presence/absence (0 or 1)\"\"\"\n",
    "    bin_matrix = matrix.copy()\n",
    "    bin_matrix.data = np.ones_like(bin_matrix.data)\n",
    "    return bin_matrix\n",
    "\n",
    "def encode_gene_info(matrix):\n",
    "    n_genes, n_cells = matrix.shape\n",
    "    ref_idx = random.randint(0, n_cells - 1)\n",
    "    reference = matrix[ref_idx ,:].toarray().flatten()\n",
    "\n",
    "    bloom = BloomFilter(capacity=n_genes * 3, error_rate=0.01)\n",
    "\n",
    "    for gene_id in range(n_genes):\n",
    "        vec = matrix[gene_id, :].toarray().flatten()\n",
    "        delta = reference - vec\n",
    "\n",
    "        l2 = np.linalg.norm(delta, ord=2)\n",
    "        linf = np.max(np.abs(delta))\n",
    "        argmax = np.argmax(np.abs(delta))\n",
    "\n",
    "        # Encode all 3 into Bloom filter as strings\n",
    "        bloom.add(f\"{l2}:{linf}:{argmax}\")\n",
    "    return bloom, reference\n",
    "\n",
    "def save_bloom(bloom, reference_vector, out_file):\n",
    "    encoded = {\"reference\": reference_vector, \"filter\": bloom}\n",
    "    out_file += \"_delta.pkl\"\n",
    "    with open(out_file, \"wb\") as f:\n",
    "        pickle.dump(encoded, f)"
   ]
  },
  {
   "cell_type": "code",
   "execution_count": 21,
   "id": "59b21ab2-52c1-4200-b292-d09de4a7fd77",
   "metadata": {},
   "outputs": [
    {
     "name": "stdout",
     "output_type": "stream",
     "text": [
      "352.69325709342957\n"
     ]
    }
   ],
   "source": [
    "# === RUNNING THE PIPELINE ===\n",
    "files = [\"human\"]\n",
    "for f in files:\n",
    "    start = time.time()\n",
    "    matrix = load_matrix(f)\n",
    "    binary_matrix = binarize(matrix)\n",
    "    bloom, reference = encode_gene_info(binary_matrix)\n",
    "    save_bloom(bloom, reference, f)\n",
    "    end = time.time()\n",
    "    print(end - start)"
   ]
  },
  {
   "cell_type": "code",
   "execution_count": null,
   "id": "0b373c98-dad0-4a75-a693-363dc0c60815",
   "metadata": {},
   "outputs": [],
   "source": []
  }
 ],
 "metadata": {
  "kernelspec": {
   "display_name": "Python 3 (ipykernel)",
   "language": "python",
   "name": "python3"
  },
  "language_info": {
   "codemirror_mode": {
    "name": "ipython",
    "version": 3
   },
   "file_extension": ".py",
   "mimetype": "text/x-python",
   "name": "python",
   "nbconvert_exporter": "python",
   "pygments_lexer": "ipython3",
   "version": "3.10.12"
  }
 },
 "nbformat": 4,
 "nbformat_minor": 5
}
